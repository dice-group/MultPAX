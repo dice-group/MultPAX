{
 "cells": [
  {
   "cell_type": "code",
   "execution_count": 1,
   "metadata": {},
   "outputs": [],
   "source": [
    "from pathlib import Path\n",
    "import glob\n",
    "from wordwise import Extractor\n",
    "import warnings\n",
    "\n",
    "warnings.filterwarnings('ignore')\n",
    "extractor = Extractor(spacy_model=\"en_core_web_lg\")"
   ]
  },
  {
   "cell_type": "code",
   "execution_count": 3,
   "metadata": {},
   "outputs": [],
   "source": [
    "test_docs= glob.glob('../ake-datasets/datasets/Inspec/test/*.xml')\n",
    "test_docs= ['../Inspec/docsutf8/'+doc.split('/')[-1][:-3]+'txt' for doc in test_docs]\n",
    "\n",
    "Path(\"./Output/EmbedRank(wordwise)-Output/\").mkdir(parents=True, exist_ok=True)"
   ]
  },
  {
   "cell_type": "code",
   "execution_count": 4,
   "metadata": {},
   "outputs": [],
   "source": [
    "for file in test_docs:     \n",
    "    \n",
    "    input_text= open(file, mode='r').read()\n",
    "    input_text=input_text.replace('\\t', ' ').replace('\\n', '')\n",
    "\n",
    "    keyphrases = extractor.generate(input_text, top_k=10)\n",
    "\n",
    "    keyphrases_list= '\\n'.join([key for key in keyphrases])\n",
    "    \n",
    "    with open('./Output/EmbedRank(wordwise)-Output/'+file.split('/')[-1], 'w') as outFile:\n",
    "        outFile.writelines(keyphrases_list)\n",
    "        \n",
    "    outFile.close()\n"
   ]
  },
  {
   "cell_type": "code",
   "execution_count": null,
   "metadata": {},
   "outputs": [],
   "source": []
  }
 ],
 "metadata": {
  "kernelspec": {
   "display_name": "Python 3",
   "language": "python",
   "name": "python3"
  },
  "language_info": {
   "codemirror_mode": {
    "name": "ipython",
    "version": 3
   },
   "file_extension": ".py",
   "mimetype": "text/x-python",
   "name": "python",
   "nbconvert_exporter": "python",
   "pygments_lexer": "ipython3",
   "version": "3.7.11"
  }
 },
 "nbformat": 4,
 "nbformat_minor": 4
}
