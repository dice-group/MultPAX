{
 "cells": [
  {
   "cell_type": "code",
   "execution_count": 1,
   "metadata": {},
   "outputs": [],
   "source": [
    "import pke\n",
    "\n",
    "from pathlib import Path\n",
    "import glob\n",
    "\n",
    "from nltk.corpus import stopwords"
   ]
  },
  {
   "cell_type": "markdown",
   "metadata": {},
   "source": [
    "### Run YAKE Baseline one Inspec Dataset"
   ]
  },
  {
   "cell_type": "code",
   "execution_count": 3,
   "metadata": {},
   "outputs": [],
   "source": [
    "# Get id of the test documents from the benchmarking path (../ake-datasets/../test)\n",
    "# Modify the path (i.e., redirect to the ground-truth folder) to geth the gold standard keywords\n",
    "test_docs= glob.glob('../ake-datasets/datasets/Inspec/test/*.xml')\n",
    "test_docs= ['../Inspec/docsutf8/'+doc.split('/')[-1][:-3]+'txt' for doc in test_docs]\n",
    "\n",
    "Path(\"./Output/TextRank-Output/\").mkdir(parents=True, exist_ok=True)"
   ]
  },
  {
   "cell_type": "code",
   "execution_count": 6,
   "metadata": {},
   "outputs": [],
   "source": [
    "# initialize keyphrase extraction model, here TextRank\n",
    "extractor = pke.unsupervised.TextRank()\n",
    "stoplist = stopwords.words('english')\n",
    "\n",
    "window = 2\n",
    "use_stems = False # use stems instead of words for weighting\n",
    "threshold = 0.8\n",
    "\n",
    "for file in test_docs:     \n",
    "    \n",
    "    input_text= open(file, mode='r').read()\n",
    "    input_text=input_text.replace('\\t', ' ').replace('\\n', '')\n",
    "    \n",
    "    extractor.load_document(input=input_text, language='en')\n",
    "\n",
    "    extractor.candidate_selection(n=3, stoplist=stoplist)    \n",
    "    extractor.candidate_weighting(window=window, stoplist=stoplist, use_stems=use_stems)\n",
    "\n",
    "    keyphrases = extractor.get_n_best(n=10, threshold=threshold)\n",
    "   \n",
    "    keyphrases_list= '\\n'.join([key[0] for key in keyphrases])\n",
    "    \n",
    "    with open('./Output/TextRank-Output/'+file.split('/')[-1], 'w') as outFile:\n",
    "        outFile.writelines(keyphrases_list)\n",
    "        \n",
    "    outFile.close()"
   ]
  }
 ],
 "metadata": {
  "kernelspec": {
   "display_name": "Python 3",
   "language": "python",
   "name": "python3"
  },
  "language_info": {
   "codemirror_mode": {
    "name": "ipython",
    "version": 3
   },
   "file_extension": ".py",
   "mimetype": "text/x-python",
   "name": "python",
   "nbconvert_exporter": "python",
   "pygments_lexer": "ipython3",
   "version": "3.7.11"
  }
 },
 "nbformat": 4,
 "nbformat_minor": 4
}
