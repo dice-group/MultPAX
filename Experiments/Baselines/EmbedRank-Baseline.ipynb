{
 "cells": [
  {
   "cell_type": "code",
   "execution_count": 1,
   "metadata": {},
   "outputs": [],
   "source": [
    "from pathlib import Path\n",
    "import glob\n",
    "\n",
    "import spacy\n",
    "from spacycake import BertKeyphraseExtraction as bake\n",
    "nlp = spacy.load('en')"
   ]
  },
  {
   "cell_type": "code",
   "execution_count": 6,
   "metadata": {},
   "outputs": [
    {
     "name": "stderr",
     "output_type": "stream",
     "text": [
      "Some weights of the model checkpoint at bert-base-cased were not used when initializing BertModel: ['cls.predictions.bias', 'cls.predictions.transform.LayerNorm.weight', 'cls.seq_relationship.weight', 'cls.predictions.transform.dense.weight', 'cls.seq_relationship.bias', 'cls.predictions.transform.dense.bias', 'cls.predictions.decoder.weight', 'cls.predictions.transform.LayerNorm.bias']\n",
      "- This IS expected if you are initializing BertModel from the checkpoint of a model trained on another task or with another architecture (e.g. initializing a BertForSequenceClassification model from a BertForPreTraining model).\n",
      "- This IS NOT expected if you are initializing BertModel from the checkpoint of a model that you expect to be exactly identical (initializing a BertForSequenceClassification model from a BertForSequenceClassification model).\n"
     ]
    }
   ],
   "source": [
    "cake = bake(nlp, from_pretrained='bert-base-cased', top_k=10)"
   ]
  },
  {
   "cell_type": "markdown",
   "metadata": {},
   "source": [
    "### Run EmbedRank Baseline on Inspec Dataset"
   ]
  },
  {
   "cell_type": "code",
   "execution_count": null,
   "metadata": {},
   "outputs": [],
   "source": [
    "\n",
    "# Get id of the test documents from the benchmarking path (../ake-datasets/../test)\n",
    "# Modify the path (i.e., redirect to the ground-truth folder) to geth the gold standard keywords\n",
    "test_docs= glob.glob('../ake-datasets/datasets/Inspec/test/*.xml')\n",
    "test_docs= ['../Inspec/docsutf8/'+doc.split('/')[-1][:-3]+'txt' for doc in test_docs]\n",
    "\n",
    "Path(\"./Output/EmbedRank-Output/\").mkdir(parents=True, exist_ok=True)\n",
    "\n",
    "for file in test_docs:     \n",
    "    \n",
    "    input_text= open(file, mode='r').read()\n",
    "    input_text=input_text.replace('\\t', ' ').replace('\\n', '')\n",
    "    \n",
    "    phrases = cake._get_candidate_phrases(doc)[:10] # get top 10 keyphrases\n",
    "    \n",
    "    keyphrases_list= '\\n'.join(phrases)\n",
    "    \n",
    "    with open('./Output/EmbedRank-Output/'+file.split('/')[-1], 'w') as outFile:\n",
    "        outFile.writelines(keyphrases_list)\n",
    "        \n",
    "    outFile.close()"
   ]
  }
 ],
 "metadata": {
  "kernelspec": {
   "display_name": "Python 3",
   "language": "python",
   "name": "python3"
  },
  "language_info": {
   "codemirror_mode": {
    "name": "ipython",
    "version": 3
   },
   "file_extension": ".py",
   "mimetype": "text/x-python",
   "name": "python",
   "nbconvert_exporter": "python",
   "pygments_lexer": "ipython3",
   "version": "3.7.11"
  }
 },
 "nbformat": 4,
 "nbformat_minor": 4
}
